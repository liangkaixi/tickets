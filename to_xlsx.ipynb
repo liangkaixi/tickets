{
 "cells": [
  {
   "cell_type": "code",
   "execution_count": 9,
   "metadata": {},
   "outputs": [
    {
     "name": "stdout",
     "output_type": "stream",
     "text": [
      "彩票号码已导出到 /Users/liangkaixi/Desktop/mydlt_tickets.xlsx\n"
     ]
    }
   ],
   "source": [
    "import pandas as pd\n",
    "\n",
    "# 定义彩票号码数据\n",
    "my_tickets = [\n",
    "\n",
    "        {'reds': {6, 21, 24, 25, 32}, 'blue': {10, 11}},\n",
    "        {'reds': {4, 6, 7, 10, 27}, 'blue': {8, 9}},\n",
    "        {'reds': {17, 18, 19, 21, 30}, 'blue': {7, 8}},\n",
    "        {'reds': {3, 4, 9, 17, 21}, 'blue': {1, 4}},\n",
    "        {'reds': {5, 6, 7, 9, 15}, 'blue': {2, 4}},\n",
    "        {'reds': {8, 13, 18, 20, 25}, 'blue': {6, 9}},\n",
    "        {'reds': {3, 4, 6, 22, 28}, 'blue': {1, 5}},\n",
    "        {'reds': {6, 11, 14, 15, 23}, 'blue': {1, 8}},\n",
    "        {'reds': {3, 4, 6, 29, 31}, 'blue': {10, 12}},\n",
    "        {'reds': {2, 9, 12, 24, 31}, 'blue': {3, 4}},\n",
    "        {'reds': {15, 23, 26, 28, 30}, 'blue': {1, 3}},\n",
    "        {'reds': {9, 13, 21, 27, 35}, 'blue': {5, 6}},\n",
    "        {'reds': {2, 7, 25, 29, 35}, 'blue': {8, 10}},\n",
    "        {'reds': {5, 10, 31, 32, 34}, 'blue': {1, 7}},\n",
    "        {'reds': {2, 5, 12, 15, 29}, 'blue': {5, 9}},\n",
    "\n",
    "    ]\n",
    "\n",
    "# 将彩票号码转换为 DataFrame\n",
    "ticket_data = []\n",
    "for ticket in my_tickets:\n",
    "    ticket_row = {\n",
    "        'red1': sorted(list(ticket['reds']))[0],\n",
    "        'red2': sorted(list(ticket['reds']))[1],\n",
    "        'red3': sorted(list(ticket['reds']))[2],\n",
    "        'red4': sorted(list(ticket['reds']))[3],\n",
    "        'red5': sorted(list(ticket['reds']))[4],\n",
    "        'blue1': sorted(list(ticket['blue']))[0],\n",
    "        'blue2': sorted(list(ticket['blue']))[1],\n",
    "    }\n",
    "    ticket_data.append(ticket_row)\n",
    "\n",
    "df = pd.DataFrame(ticket_data)\n",
    "\n",
    "# 将数据导出为 Excel 文件\n",
    "output_file = '/Users/liangkaixi/Desktop/mydlt_tickets.xlsx'  # 替换为你的文件路径\n",
    "df.to_excel(output_file, index=False)\n",
    "\n",
    "print(f\"彩票号码已导出到 {output_file}\")\n"
   ]
  },
  {
   "cell_type": "markdown",
   "metadata": {},
   "source": [
    "# 大乐透号码导入数据库"
   ]
  },
  {
   "cell_type": "code",
   "execution_count": 1,
   "metadata": {},
   "outputs": [
    {
     "name": "stdout",
     "output_type": "stream",
     "text": [
      "数据插入成功!\n"
     ]
    }
   ],
   "source": [
    "import pymysql\n",
    "import pandas as pd\n",
    "\n",
    "# 连接到远程 MySQL 数据库\n",
    "connection = pymysql.connect(\n",
    "    host='47.108.214.185',\n",
    "    user='root001',        # 替换为您的 MySQL 用户名\n",
    "    password='shuqi520',# 替换为您的 MySQL 密码\n",
    "    database='school',             # 数据库名\n",
    "    charset='utf8mb4'\n",
    ")\n",
    "\n",
    "try:\n",
    "    with connection.cursor() as cursor:\n",
    "\n",
    "        # 读取 Excel 文件\n",
    "        bank_data = pd.read_excel('/Users/liangkaixi/Desktop/mydlt_tickets.xlsx')\n",
    "        # 插入数据的SQL语句\n",
    "        insert_query = \"\"\"\n",
    "            INSERT INTO dlt_lottery_tickets(user_id, red1, red2, red3, red4, red5, blue1, blue2)\n",
    "            VALUES (%s, %s, %s, %s, %s, %s, %s,%s)\n",
    "            \"\"\"\n",
    "\n",
    "        # 插入每一行数据\n",
    "        for _, row in bank_data.iterrows():\n",
    "            cursor.execute(insert_query, (\n",
    "                row['user_id'], row['red1'], row['red2'],\n",
    "                row['red3'], row['red4'], row['red5'], row['blue1'], row['blue2']\n",
    "            ))\n",
    "\n",
    "        # 提交事务\n",
    "        connection.commit()\n",
    "        print(\"数据插入成功!\")\n",
    "\n",
    "except Exception as e:\n",
    "    print(f\"发生错误: {e}\")\n",
    "finally:\n",
    "    connection.close()\n"
   ]
  },
  {
   "cell_type": "markdown",
   "metadata": {},
   "source": [
    "# 双色球写入数据库"
   ]
  },
  {
   "cell_type": "code",
   "execution_count": null,
   "metadata": {},
   "outputs": [],
   "source": [
    "import pymysql\n",
    "import pandas as pd\n",
    "\n",
    "# 连接到远程 MySQL 数据库\n",
    "connection = pymysql.connect(\n",
    "    host='47.108.214.185',\n",
    "    user='root001',        # 替换为您的 MySQL 用户名\n",
    "    password='shuqi520',# 替换为您的 MySQL 密码\n",
    "    database='school',             # 数据库名\n",
    "    charset='utf8mb4'\n",
    ")\n",
    "\n",
    "try:\n",
    "    with connection.cursor() as cursor:\n",
    "\n",
    "        # 读取 Excel 文件\n",
    "        bank_data = pd.read_excel('/Users/liangkaixi/Desktop/my_tickets.xlsx')\n",
    "        # 插入数据的SQL语句\n",
    "        insert_query = \"\"\"\n",
    "            INSERT INTO lottery_tickets(user_id, red1, red2, red3, red4, red5, red6, blue)\n",
    "            VALUES (%s, %s, %s, %s, %s, %s, %s,%s)\n",
    "            \"\"\"\n",
    "\n",
    "        # 插入每一行数据\n",
    "        for _, row in bank_data.iterrows():\n",
    "            cursor.execute(insert_query, (\n",
    "                row['user_id'], row['red1'], row['red2'],\n",
    "                row['red3'], row['red4'], row['red5'], row['red6'], row['blue']\n",
    "            ))\n",
    "\n",
    "        # 提交事务\n",
    "        connection.commit()\n",
    "        print(\"数据插入成功!\")\n",
    "\n",
    "except Exception as e:\n",
    "    print(f\"发生错误: {e}\")\n",
    "finally:\n",
    "    connection.close()\n"
   ]
  }
 ],
 "metadata": {
  "kernelspec": {
   "display_name": "Golden Scenario Env",
   "language": "python",
   "name": "golden_scenario_env"
  },
  "language_info": {
   "codemirror_mode": {
    "name": "ipython",
    "version": 3
   },
   "file_extension": ".py",
   "mimetype": "text/x-python",
   "name": "python",
   "nbconvert_exporter": "python",
   "pygments_lexer": "ipython3",
   "version": "3.11.5"
  }
 },
 "nbformat": 4,
 "nbformat_minor": 2
}
